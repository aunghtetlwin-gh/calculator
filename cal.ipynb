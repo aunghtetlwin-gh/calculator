{
 "cells": [
  {
   "cell_type": "code",
   "execution_count": 1,
   "metadata": {},
   "outputs": [
    {
     "name": "stdout",
     "output_type": "stream",
     "text": [
      "Welcome to the Calculator App!\n",
      "\n",
      "Select operation:\n",
      "1. Addition\n",
      "2. Subtraction\n",
      "3. Multiplication\n",
      "4. Division\n",
      "5. Exit\n",
      "Result: 7.0\n",
      "\n",
      "Select operation:\n",
      "1. Addition\n",
      "2. Subtraction\n",
      "3. Multiplication\n",
      "4. Division\n",
      "5. Exit\n",
      "Invalid input. Please try again.\n",
      "\n",
      "Select operation:\n",
      "1. Addition\n",
      "2. Subtraction\n",
      "3. Multiplication\n",
      "4. Division\n",
      "5. Exit\n",
      "Exiting the calculator. Goodbye!\n"
     ]
    }
   ],
   "source": [
    "def calculator():\n",
    "    print(\"Welcome to the Calculator App!\")\n",
    "    while True:\n",
    "        print(\"\\nSelect operation:\")\n",
    "        print(\"1. Addition\")\n",
    "        print(\"2. Subtraction\")\n",
    "        print(\"3. Multiplication\")\n",
    "        print(\"4. Division\")\n",
    "        print(\"5. Exit\")\n",
    "\n",
    "        choice = input(\"Enter choice (1/2/3/4/5): \")\n",
    "\n",
    "        if choice == '5':\n",
    "            print(\"Exiting the calculator. Goodbye!\")\n",
    "            break\n",
    "\n",
    "        if choice in ['1', '2', '3', '4']:\n",
    "            num1 = float(input(\"Enter the first number: \"))\n",
    "            num2 = float(input(\"Enter the second number: \"))\n",
    "\n",
    "            if choice == '1':\n",
    "                print(f\"Result: {num1 + num2}\")\n",
    "            elif choice == '2':\n",
    "                print(f\"Result: {num1 - num2}\")\n",
    "            elif choice == '3':\n",
    "                print(f\"Result: {num1 * num2}\")\n",
    "            elif choice == '4':\n",
    "                if num2 != 0:\n",
    "                    print(f\"Result: {num1 / num2}\")\n",
    "                else:\n",
    "                    print(\"Error: Division by zero!\")\n",
    "        else:\n",
    "            print(\"Invalid input. Please try again.\")\n",
    "\n",
    "calculator()"
   ]
  }
 ],
 "metadata": {
  "kernelspec": {
   "display_name": "Python 3",
   "language": "python",
   "name": "python3"
  },
  "language_info": {
   "codemirror_mode": {
    "name": "ipython",
    "version": 3
   },
   "file_extension": ".py",
   "mimetype": "text/x-python",
   "name": "python",
   "nbconvert_exporter": "python",
   "pygments_lexer": "ipython3",
   "version": "3.12.8"
  }
 },
 "nbformat": 4,
 "nbformat_minor": 2
}
